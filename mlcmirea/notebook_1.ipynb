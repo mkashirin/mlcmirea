{
 "cells": [
  {
   "cell_type": "markdown",
   "metadata": {},
   "source": [
    "# Тетрадь 1: Разделение данных\n",
    "\n",
    "## Содержание\n",
    "\n",
    "- [Введение](#Введение)\n",
    "- [Код и примеры](#Код-и-примеры)\n",
    "- [Задание](#Задание)"
   ]
  },
  {
   "cell_type": "markdown",
   "metadata": {},
   "source": [
    "***"
   ]
  },
  {
   "cell_type": "markdown",
   "metadata": {},
   "source": [
    "## Введение\n",
    "\n",
    "### Предварительная обработка данных\n",
    "\n",
    "**Предварительная обработка данных (Data Preprocessing)** в машинном обучении — это набор методов и \n",
    "техник, которые применяются к исходным данным перед их использованием для обучения модели. Цель \n",
    "предварительной обработки — подготовить данные к анализу, улучшить их качество и сделать их более \n",
    "пригодными для обучения моделей машинного обучения. Существует множество различных этапов \n",
    "предобработки, о которых более подробно речь пойдёт в следующей тетради. А пока остновимся на том, \n",
    "что одним из самых этапов является разделение данных на обучающую, тестовую и валидационную выборки.\n",
    "\n",
    "### Разделение на обучающую и тестовую выборки\n",
    "\n",
    "Схематически разделение на обучающую и тестовую выборки можно изобразить следующим образом:\n",
    "\n",
    "<div style=\"text-align: center\">\n",
    "    <img src=\"images/train_test_pie.png\" alt=\"Train Test Split\">\n",
    "</div>\n",
    "\n",
    "Рассмотрим данную операцию более подробно.\n",
    "\n",
    "**Цель.** Оценка обобщающей способности модели.\n",
    "\n",
    "**Принцип.** Данные делятся на две части:\n",
    "- Обучающая выборка (обычно 70-80%) — Используется для обучения модели.\n",
    "- Тестовая выборка (обычно 20-30%) — Используется для оценки качества модели на новых данных, \n",
    "которые модель не видела во время обучения.\n",
    "\n",
    "**Важность.** Если модель обучается и тестируется на одних и тех же данных, она может запомнить их, \n",
    "а не научиться обобщать. Тестовая выборка позволяет оценить, насколько хорошо модель будет работать \n",
    "на новых, неизвестных данных.\n",
    "\n",
    "### Разделение на обучающую, валидационную и тестовую выборки\n",
    "\n",
    "Так же схематично представим разделение на обучающую, валидационную и етстовую выборки:\n",
    "\n",
    "<div style=\"text-align: center\">\n",
    "    <img src=\"images/train_test_valid_pie.png\" alt=\"Train Test Valid Split\">\n",
    "</div>\n",
    "\n",
    "Обсудим, чем этот метод отличается от предыдущего, более подробно.\n",
    "\n",
    "**Цель.** Настройка гиперпараметров модели. Выбор лучшей модели.\n",
    "\n",
    "**Принцип.** Данные делятся на три части:\n",
    "- Обучающая выборка (обычно 60-70%) — Используется для обучения модели.\n",
    "- Валидационная выборка (обычно 10-20%) — Используется для настройки гиперпараметров и выбора лучшей \n",
    "модели.\n",
    "- Тестовая выборка (обычно 10-20%) — Используется для окончательной оценки качества выбранной \n",
    "модели.\n",
    "\n",
    "**Важность.** Валидационная выборка позволяет: оценивать качество модели на данных, которые модель \n",
    "не видела во время обучения, но при этом не смешивается с тестовой выборкой; выбирать \n",
    "гиперпараметры, которые дают лучшие результаты на данных, не используемых для обучения; сравнивать \n",
    "разные модели и выбирать ту, которая показывает лучшие результаты на данных, не используемых для \n",
    "обучения.\n",
    "\n",
    "Разделение данных на обучающую, тестовую и валидационную выборки является важным этапом \n",
    "предварительной обрабоки данных в машинном обучении и искусственном интеллекте. Оно позволяет\n",
    "оценить обобщающую способность модели, предотвратить переобучение и настроить гиперпараметры.\n"
   ]
  },
  {
   "cell_type": "markdown",
   "metadata": {},
   "source": [
    "***"
   ]
  },
  {
   "cell_type": "markdown",
   "metadata": {},
   "source": [
    "## Код и примеры"
   ]
  },
  {
   "cell_type": "code",
   "execution_count": null,
   "metadata": {},
   "outputs": [],
   "source": [
    "from typing import Optional, Tuple\n",
    "\n",
    "import numpy as np\n",
    "from numpy import ndarray"
   ]
  },
  {
   "cell_type": "markdown",
   "metadata": {},
   "source": [
    "Рассмотрим теперь некоторые элементарные примеры разделения данных. \n",
    "\n",
    "Допустим, имеется следующая случайная выборка из 10 чисел:"
   ]
  },
  {
   "cell_type": "code",
   "execution_count": null,
   "metadata": {},
   "outputs": [],
   "source": [
    "(n_samples, round_to) = (10, 3)\n",
    "selection = np.round(np.random.standard_normal(n_samples), round_to)\n",
    "\n",
    "print(selection)"
   ]
  },
  {
   "cell_type": "markdown",
   "metadata": {},
   "source": [
    "### Разделение на обучающую и тестовую выборки\n",
    "\n",
    "Рассмотрим случай, когда нужно выделить только обучающую и тестовую выборки. Наша задача в том, \n",
    "чтобы разделить эти данные в соотношении 70 (обучающая выборка) на 30 (тестовая выборка). Напишем \n",
    "для этого функцию и посмотрим, как будет выглядеть результат."
   ]
  },
  {
   "cell_type": "code",
   "execution_count": null,
   "metadata": {},
   "outputs": [],
   "source": [
    "def split_data(data: ndarray, test_size: float) -> Tuple[ndarray, ndarray]:\n",
    "    # Calculating the splitting index\n",
    "    train_test_index = int(test_size * len(data))\n",
    "    # Cutting off the training set\n",
    "    train_data = data[train_test_index:]\n",
    "    # Cutting off the testing set\n",
    "    test_data = data[:train_test_index]\n",
    "\n",
    "    splitted: Tuple[ndarray, ndarray] = (train_data, test_data)\n",
    "    return splitted\n",
    "\n",
    "\n",
    "data_splitted = split_data(selection, 0.3)\n",
    "\n",
    "print(data_splitted)"
   ]
  },
  {
   "cell_type": "markdown",
   "metadata": {},
   "source": [
    "### Разделение на обучающую, валидационную и тестовую выборки\n",
    "\n",
    "Теперь посмотрим, как действовать, если помимо обучающей и тестовой имеется потребность выделить \n",
    "ещё и валидационную выборку. Дополним функцию из предыдущей секции. Теперь помимо параметра \n",
    "`test_size`, у нас будет `valid_size`, который обозначает часть тестовой выборки, что будет \n",
    "отсечена в валидационную. Оставим 70% для тренировочной выборки, а треть тестовой определим в \n",
    "валидационную."
   ]
  },
  {
   "cell_type": "code",
   "execution_count": null,
   "metadata": {},
   "outputs": [],
   "source": [
    "def split_data_with_valid(\n",
    "    data: ndarray, test_size: float, valid_size: Optional[float] = None\n",
    ") -> Tuple[ndarray, ndarray, ndarray]:\n",
    "    splitted: Tuple[ndarray, ndarray] = split_data(data, test_size)\n",
    "\n",
    "    if valid_size is not None:\n",
    "        (train_data, test_data) = (splitted[0], splitted[1])\n",
    "        # Calculating the splitting index for the testing set\n",
    "        test_valid_index = int(valid_size * len(test_data))\n",
    "        # Split the testing set the same way as in `split_data()` funciton\n",
    "        test_data = test_data[test_valid_index:]\n",
    "        valid_data = test_data[:test_valid_index]\n",
    "        splitted: Tuple[ndarray, ndarray, ndarray] = (\n",
    "            train_data, test_data, valid_data\n",
    "        )\n",
    "\n",
    "    return splitted\n",
    "\n",
    "\n",
    "data_splitted = split_data_with_valid(selection, 0.3, 0.4)\n",
    "\n",
    "print(data_splitted)"
   ]
  },
  {
   "cell_type": "markdown",
   "metadata": {},
   "source": [
    "Теперь, когда у нас уже имеется некоторое базовое представление о разделении данных на обучающую, \n",
    "тестовую и валидационную выборки, выполним небольшое задание для закрепления материала."
   ]
  },
  {
   "cell_type": "markdown",
   "metadata": {},
   "source": [
    "***"
   ]
  },
  {
   "cell_type": "markdown",
   "metadata": {},
   "source": [
    "## Задание\n",
    "\n",
    "В данном задании Вам нужно, пользуясь примерами выше, дополнить тела защищённых \n",
    "(тех, что начинаются с нижнего подчёркивания) функций классв `DataSplitter`. "
   ]
  },
  {
   "cell_type": "code",
   "execution_count": null,
   "metadata": {},
   "outputs": [],
   "source": [
    "from typing import List, Union\n",
    "\n",
    "\n",
    "Selections = Union[\n",
    "    Tuple[ndarray, ndarray, ndarray, ndarray],\n",
    "    Tuple[ndarray, ndarray, ndarray, ndarray, ndarray, ndarray],\n",
    "]\n",
    "\n",
    "\n",
    "class DataSplitter:\n",
    "\n",
    "    def __init__(\n",
    "        self, permute: bool = False, random_seed: Optional[int] = None\n",
    "    ):\n",
    "        self.random_seed = random_seed\n",
    "        self.permute = permute\n",
    "        self._selections: List[ndarray]\n",
    "\n",
    "    def split_data(\n",
    "        self,\n",
    "        x: ndarray,\n",
    "        y: ndarray,\n",
    "        *,\n",
    "        test_size: float,\n",
    "        valid_size: Optional[float] = None,\n",
    "    ) -> Selections:\n",
    "        if self.random_seed:\n",
    "            np.random.seed(self.random_seed)\n",
    "        if self.permute:\n",
    "            permutation = np.random.permutation(x.shape[0])\n",
    "            x, y = x[permutation], y[permutation]\n",
    "\n",
    "        self._set_standard(x, y, test_size)\n",
    "        if valid_size:\n",
    "            test_length = self._selections[1].shape[0]\n",
    "            self._add_valid(test_length, x, y, valid_size)\n",
    "\n",
    "        selections: Selections = tuple(\n",
    "            self._selections  # pyright: ignore[reportAssignmentType]\n",
    "        )\n",
    "        return selections\n",
    "\n",
    "    def _set_standard(self, x: ndarray, y: ndarray, test_size: float) -> None:\n",
    "        # This method splits two multidimensional sets of data with equal\n",
    "        # lengths (`x` и `y`) into training and testing selections.\n",
    "        message = \"Method `_set_standard()` must be implemented!\"\n",
    "        raise NotImplementedError(message)\n",
    "\n",
    "    def _add_valid(\n",
    "        self, test_length: int, x: ndarray, y: ndarray, valid_size: float\n",
    "    ) -> None:\n",
    "        # This method splits two multidimensional sets of data with equal\n",
    "        # lengths (`x` и `y`) into testing and validation selections.\n",
    "        messsage = \"Method `_add_valid()` must be implemented!\"\n",
    "        raise NotImplementedError(messsage)"
   ]
  },
  {
   "cell_type": "markdown",
   "metadata": {},
   "source": [
    "Когда реализуете все методы из ячейки выше, запускайте ячейку ниже и продемонстрируйте правильность \n",
    "выполнения задания."
   ]
  },
  {
   "cell_type": "code",
   "execution_count": null,
   "metadata": {},
   "outputs": [],
   "source": [
    "(x_size, y_size) = ((10, 9), (10, 1))\n",
    "(x, y) = (np.random.standard_normal(x_size), np.random.standard_normal(y_size))\n",
    "data_splitter = DataSplitter(permute=True, random_seed=2024)\n",
    "(test_size, valid_size) = (0.3, 0.4)\n",
    "\n",
    "splitted = data_splitter.split_data(x, y, test_size=test_size)\n",
    "names = (\"X-train\", \"X-test\", \"y-train\", \"y-test\")\n",
    "for (spltd, name) in zip(splitted, names):\n",
    "    print(f\"{name}:\\n{spltd}\")"
   ]
  },
  {
   "cell_type": "markdown",
   "metadata": {},
   "source": [
    "Если никаих ошибок не возникло, можете поэкспериментировать с кодом в задании или реализовать \n",
    "собственный интерфейс, а затем проверить его при помощи функции выше."
   ]
  },
  {
   "cell_type": "markdown",
   "metadata": {},
   "source": [
    "***"
   ]
  },
  {
   "cell_type": "markdown",
   "metadata": {},
   "source": [
    "## Выводы\n",
    "\n",
    "В настоящей тетради мы изучили: что такое разделение данных на обучающую, тестовую и валидационную \n",
    "выборки; как, а самое главное — для чего выполняется такое разделение. \n",
    "\n",
    "Если есть интерес, можете попробовать далее модифицровать код из секций выше. Также можете \n",
    "попробовать написать собственный интерфейс, который вам покажется более удобным."
   ]
  }
 ],
 "metadata": {
  "kernelspec": {
   "display_name": "scratches",
   "language": "python",
   "name": "python3"
  },
  "language_info": {
   "codemirror_mode": {
    "name": "ipython",
    "version": 3
   },
   "file_extension": ".py",
   "mimetype": "text/x-python",
   "name": "python",
   "nbconvert_exporter": "python",
   "pygments_lexer": "ipython3",
   "version": "3.12.1"
  }
 },
 "nbformat": 4,
 "nbformat_minor": 4
}
