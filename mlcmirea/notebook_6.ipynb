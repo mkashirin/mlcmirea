{
 "cells": [
  {
   "cell_type": "markdown",
   "metadata": {},
   "source": [
    "# Тетрадь 6: Алгоритм k-ближайших соседей\n",
    "\n",
    "## Содержание\n",
    "\n",
    "- [Введение](#Ввдение)\n",
    "- [Код и примеры](#Код-и-примеры)\n",
    "- [Задания](#Задания)"
   ]
  },
  {
   "cell_type": "markdown",
   "metadata": {},
   "source": [
    "***"
   ]
  },
  {
   "cell_type": "markdown",
   "metadata": {},
   "source": [
    "## Введение\n",
    "\n",
    "Алгоритм k-ближайших соседей KNN — это один из самых простых и интуитивно понятных алгоритмов классификации. Он относится к\n",
    "методам **ленивого обучения** (lazy learning), так как не строит модель на этапе обучения, а\n",
    "откладывает все вычисления до момента классификации нового объекта.\n",
    "\n",
    "#### Основные шаги алгоритма\n",
    "\n",
    "1. **Выбор числа соседей (k)**\n",
    "   - Параметр k определяет, сколько ближайших соседей будет учитываться при классификации.\n",
    "   - Обычно выбирается нечётное число, чтобы избежать ничьей при голосовании.\n",
    "\n",
    "2. **Вычисление расстояний**\n",
    "   - Для нового объекта вычисляются расстояния до всех объектов в обучающей выборке.\n",
    "   - Часто используются метрики расстояния, такие как евклидово расстояние, манхэттенское расстояние\n",
    "   или косинусное сходство.\n",
    "\n",
    "3. **Выбор k ближайших соседей**\n",
    "   - Из обучающей выборки выбираются $k$ объектов, которые находятся ближе всего к новому объекту.\n",
    "\n",
    "4. **Голосование**\n",
    "   - Класс нового объекта определяется путём голосования среди $k$ ближайших соседей.\n",
    "   - Например, если $k=3$, и два соседа принадлежат к классу $A$, а один — к классу $B$, то новый\n",
    "   объект будет отнесён к классу $A$.\n",
    "\n",
    "5. **Возвращение результата**:\n",
    "   - Алгоритм возвращает предсказанный класс для нового объекта.\n",
    "\n",
    "#### Преимущества:\n",
    "\n",
    "- Простота реализации и интерпретации.\n",
    "- Не требует этапа обучения (все вычисления происходят на этапе предсказания).\n",
    "- Хорошо работает на данных с небольшим количеством признаков.\n",
    "\n",
    "#### Недостатки:\n",
    "\n",
    "- Вычислительная сложность на больших данных, так как для каждого нового объекта нужно вычислять\n",
    "расстояния до всех объектов в обучающей выборке.\n",
    "- Чувствительность к масштабированию данных (необходимо нормализовать признаки).\n",
    "- Чувствительность к выбору параметра $k$: слишком маленькое $k$ может привести к переобучению, а\n",
    "слишком большое — к недообучению."
   ]
  },
  {
   "cell_type": "markdown",
   "metadata": {},
   "source": [
    "***"
   ]
  },
  {
   "cell_type": "markdown",
   "metadata": {},
   "source": [
    "## Код и примеры"
   ]
  },
  {
   "cell_type": "code",
   "execution_count": 11,
   "metadata": {},
   "outputs": [],
   "source": [
    "from typing import Dict, Optional\n",
    "from zipfile import ZipFile\n",
    "\n",
    "import matplotlib.pyplot as plt\n",
    "import numpy as np\n",
    "import pandas as pd\n",
    "from numpy import ndarray\n",
    "from scipy.stats import mode\n",
    "\n",
    "from modules.metrics import compute_confusion_matrix\n",
    "from modules.models import ModelBase\n",
    "from modules.preprocessing import DataSplitter\n",
    "from modules.visuals import plot_confusion_matrix\n",
    "\n",
    "\n",
    "def unzip(file_path: str, extract_to: str) -> None:\n",
    "    with ZipFile(file_path, \"r\") as zip_ref:\n",
    "        zip_ref.extractall(extract_to)"
   ]
  },
  {
   "cell_type": "markdown",
   "metadata": {},
   "source": [
    "### KNN в два цикла\n",
    "\n",
    "Ниже определён класс, выполняющий функции алгоритма k-ближайших соседей. Он в состоянии решать\n",
    "несложные задачи классификации, и ниже мы в этом убедимся. Прежде чем двигаться дальше,\n",
    "ознакомьтесь с подробными комментариями в теле класса, они помогут лучше понять принцип работы\n",
    "алгоритма."
   ]
  },
  {
   "cell_type": "code",
   "execution_count": 2,
   "metadata": {},
   "outputs": [],
   "source": [
    "class LoopingKNNClassifier(ModelBase):\n",
    "    # This K-Nearest Neighbors Classifier loops twice, comparing each train and\n",
    "    # test point in the set. Uses Euclidean distance to determine the nearest\n",
    "    # neighbors.\n",
    "\n",
    "    def __init__(self):\n",
    "        super().__init__()\n",
    "\n",
    "    def fit(self, x_train: ndarray, y_train: ndarray, *args, **kwargs) -> None:\n",
    "        super().fit(x_train, y_train, *args, **kwargs)\n",
    "\n",
    "    def predict(self, x_test, n_neighbors: int = 5):\n",
    "        # This method is where the distances calculation happens.\n",
    "        n_test_samples = x_test.shape[0]\n",
    "        n_train_samples = self.x_train.shape[0]\n",
    "        distances = np.zeros((n_test_samples, n_train_samples))\n",
    "\n",
    "        # Iterating over each test sample,\n",
    "        for i in range(n_test_samples):\n",
    "            # iterate over each training sample,\n",
    "            for j in range(n_train_samples):\n",
    "                # calculate the Euclidean distance between the current test\n",
    "                # sample (`x_test[i]`) and the current training sample\n",
    "                # (`x_train[j]`).\n",
    "                distances[i, j] = np.sqrt(\n",
    "                    np.sum(np.square(x_test[i, :] - self.x_train[j, :]))\n",
    "                )\n",
    "\n",
    "        # Predict the lables based on the distances calculated.\n",
    "        predicted_labels = self._predict_labels(distances, n_neighbors)\n",
    "        return predicted_labels\n",
    "\n",
    "    def _predict_labels(\n",
    "        self,\n",
    "        distances: ndarray,\n",
    "        n_neighbors: int = 5,\n",
    "    ) -> ndarray:\n",
    "        # Predicting labels is a separate process. That's why it has it's own\n",
    "        # private method.\n",
    "        n_test_samples = distances.shape[0]\n",
    "        y_predicted = np.zeros((n_test_samples, 1))\n",
    "\n",
    "        # Iterating over each test sample to predict its label,\n",
    "        for i in range(n_test_samples):\n",
    "            # sort the distances for the current test sample and get the\n",
    "            # indices of the sorted distances,\n",
    "            sorted_indices = np.argsort(distances[i, :])\n",
    "            # determine the number of neighbors to consider, ensuring it does\n",
    "            # not exceed the available neighbors,\n",
    "            farthest_neighbor = np.min([n_neighbors, len(sorted_indices)])\n",
    "            # get the labels of the closest neighbors from the training set,\n",
    "            closest_neighbors = self.y_train[\n",
    "                sorted_indices[:farthest_neighbor]\n",
    "            ]\n",
    "            # use the mode (most frequent label) of the closest neighbors as\n",
    "            # the predicted label.\n",
    "            y_predicted[i] = mode(closest_neighbors)[0]\n",
    "        return y_predicted"
   ]
  },
  {
   "cell_type": "markdown",
   "metadata": {},
   "source": [
    "Сейчас мы рассмотрим, насколько успешно описанный выше класс справится с классификацией цифр из\n",
    "классического датасета MNIST.\n",
    "\n",
    "Распакем архив с данными и разделим их на обучающую и тестовую выборки."
   ]
  },
  {
   "cell_type": "code",
   "execution_count": 8,
   "metadata": {},
   "outputs": [],
   "source": [
    "unzip(\"datasets/mnist.zip\", \"datasets\")\n",
    "\n",
    "mnist = pd.read_csv(\"datasets/mnist.zip\")"
   ]
  },
  {
   "cell_type": "markdown",
   "metadata": {},
   "source": [
    "Однако сейчас мы не будем использовать весь набор данных, так как вложенные циклы могут заставить\n",
    "нас ждать вечность, пока модель обучится. Выделим первые 7000 точек данных и посмотрим, как наш\n",
    "классификатор с ними."
   ]
  },
  {
   "cell_type": "code",
   "execution_count": 78,
   "metadata": {},
   "outputs": [],
   "source": [
    "mnist_7k = mnist.iloc[:7000, :]\n",
    "splitter = DataSplitter(permute=True)\n",
    "x_train, x_test, y_train, y_test = splitter.split_data(\n",
    "    mnist_7k.drop(columns=[\"label\"]).to_numpy(),\n",
    "    mnist_7k[\"label\"].to_numpy().reshape((-1, 1)),\n",
    "    test_size=0.33,\n",
    ")"
   ]
  },
  {
   "cell_type": "markdown",
   "metadata": {},
   "source": [
    "Обучим `LoopingKNNClassifier` и вычислим матрицу ошибок"
   ]
  },
  {
   "cell_type": "code",
   "execution_count": 79,
   "metadata": {},
   "outputs": [],
   "source": [
    "classifier = LoopingKNNClassifier()\n",
    "\n",
    "classifier.fit(x_train, y_train)\n",
    "\n",
    "y_predicted = classifier.predict(x_test)\n",
    "confusion_matrix = compute_confusion_matrix(\n",
    "    y_test.reshape((-1, 1)), y_predicted.reshape((-1, 1))\n",
    ")"
   ]
  },
  {
   "cell_type": "code",
   "execution_count": 80,
   "metadata": {},
   "outputs": [
    {
     "data": {
      "image/png": "[encoded data removed]",
      "text/plain": [
       "<Figure size 640x480 with 2 Axes>"
      ]
     },
     "metadata": {},
     "output_type": "display_data"
    }
   ],
   "source": [
    "plot_confusion_matrix(confusion_matrix, \"Looping KNN on MNIST\")"
   ]
  },
  {
   "cell_type": "markdown",
   "metadata": {},
   "source": [
    "Можете так же выполнить следующую ячейку сколько угодно раз, чтобы найти цифру, не соответсвующую\n",
    "присвоенному классу."
   ]
  },
  {
   "cell_type": "code",
   "execution_count": 85,
   "metadata": {},
   "outputs": [
    {
     "data": {
      "text/plain": [
       "<matplotlib.image.AxesImage at 0x7f96272acc20>"
      ]
     },
     "execution_count": 85,
     "metadata": {},
     "output_type": "execute_result"
    },
    {
     "data": {
      "image/png": "[encoded data removed]",
      "text/plain": [
       "<Figure size 640x480 with 1 Axes>"
      ]
     },
     "metadata": {},
     "output_type": "display_data"
    }
   ],
   "source": [
    "images_and_predictions = np.concatenate([y_predicted, x_test], axis=1)\n",
    "index = np.random.randint(0, len(x_test))\n",
    "image, label = (\n",
    "    images_and_predictions[index, 1:].reshape((28, 28)),\n",
    "    images_and_predictions[index, 0],\n",
    ")\n",
    "\n",
    "plt.axis(\"off\")\n",
    "plt.title(f\"Predicted label: {int(label)}\", fontsize=24)\n",
    "plt.tight_layout()\n",
    "plt.imshow(image, cmap=\"grey\")"
   ]
  },
  {
   "cell_type": "markdown",
   "metadata": {},
   "source": [
    "***"
   ]
  },
  {
   "cell_type": "markdown",
   "metadata": {},
   "source": [
    "## Задания\n",
    "\n",
    "### Задание 1\n",
    "\n",
    "Несмотря на то, что `LoopingKNNClassifier` относительно неплохо справляется со совей задачей, его\n",
    "главная проблема — в теле функции `predict()`. Там целых два вложенных цикла, которые обрабатывают\n",
    "тысячи точек данных. Этот процесс занимает довольно много времени в силу природы языка Python.\n",
    "\n",
    "Ваша задача — переработать метод `predict()` так, чтобы максимизировать использование функций из\n",
    "библиотеки NumPy. Таким образом, скорость вычисления дистанций значительно возрастёт за счёт\n",
    "векторных операций."
   ]
  },
  {
   "cell_type": "code",
   "execution_count": 6,
   "metadata": {},
   "outputs": [],
   "source": [
    "class OptimizedKNNClassifier(LoopingKNNClassifier):\n",
    "    def __init__(self) -> None:\n",
    "        super().__init__()\n",
    "\n",
    "    def fit(self, x_train, y_train, *args, **kwargs) -> None:\n",
    "        return super().fit(x_train, y_train, *args, **kwargs)\n",
    "\n",
    "    def predict(self, x_test, n_neighbors = 5) -> ndarray:\n",
    "        # This method should be calculating distances without any direct\n",
    "        # looping. Use only NumPy vectorized operations.\n",
    "        train_sum = ...\n",
    "        test_sum = ...\n",
    "        distances = ...\n",
    "\n",
    "        predicted_labels = super()._predict_labels(distances, n_neighbors)\n",
    "        return predicted_labels"
   ]
  },
  {
   "cell_type": "markdown",
   "metadata": {},
   "source": [
    "После реализации более оптимизированного алгоритма выполните следующие ячейки для проверки."
   ]
  },
  {
   "cell_type": "code",
   "execution_count": null,
   "metadata": {},
   "outputs": [],
   "source": [
    "classifier = OptimizedKNNClassifier()\n",
    "\n",
    "classifier.fit(x_train, y_train)\n",
    "\n",
    "y_predicted = classifier.predict(x_test)\n",
    "confusion_matrix = compute_confusion_matrix(\n",
    "    y_test.reshape((-1, 1)), y_predicted.reshape((-1, 1))\n",
    ")"
   ]
  },
  {
   "cell_type": "code",
   "execution_count": null,
   "metadata": {},
   "outputs": [],
   "source": [
    "plot_confusion_matrix(confusion_matrix, \"Looping KNN on MNIST\")"
   ]
  },
  {
   "cell_type": "markdown",
   "metadata": {},
   "source": [
    "### Задание 2\n",
    "\n",
    "В качестве расширения для оптимизированной версии классификатора реализуйте механизм взвешивания\n",
    "соседей так, чтобы каждому из ближайших соседей можно было присвоить некоторый мультипликатор для\n",
    "увеличения его значимости."
   ]
  },
  {
   "cell_type": "code",
   "execution_count": 7,
   "metadata": {},
   "outputs": [],
   "source": [
    "class WeighingKNNClassifier(OptimizedKNNClassifier):\n",
    "    def __init__(self) -> None:\n",
    "        super().__init__()\n",
    "\n",
    "    def fit(self, x_train, y_train, *args, **kwargs) -> None:\n",
    "        return super().fit(x_train, y_train, *args, **kwargs)\n",
    "\n",
    "    def predict(\n",
    "        self,\n",
    "        x_test,\n",
    "        n_neighbors=5,\n",
    "        *,\n",
    "        weight_map: Optional[Dict[int, int]] = None,\n",
    "    ) -> ndarray:\n",
    "        n_test_samples = x_test.shape[0]\n",
    "        n_train_samples = self.x_train.shape[0]\n",
    "        distances = np.zeros((n_test_samples, n_train_samples))\n",
    "\n",
    "        for i in range(n_test_samples):\n",
    "            for j in range(n_train_samples):\n",
    "                distances[i, j] = np.sqrt(\n",
    "                    np.sum(np.square(x_test[i, :] - self.x_train[j, :]))\n",
    "                )\n",
    "\n",
    "        predicted_labels = self._predict_labels(\n",
    "            distances, n_neighbors, weight_map=weight_map\n",
    "        )\n",
    "        return predicted_labels\n",
    "\n",
    "    def _predict_labels(\n",
    "        self,\n",
    "        distances: ndarray,\n",
    "        n_neighbors: int = 5,\n",
    "        *,\n",
    "        weight_map: Optional[Dict[int, int]] = None,\n",
    "    ) -> ndarray:\n",
    "        n_test_samples = distances.shape[0]\n",
    "        y_predicted = np.zeros((n_test_samples, 1))\n",
    "\n",
    "        for i in range(n_test_samples):\n",
    "            sorted_indices = np.argsort(distances[i, :])\n",
    "            farthest_neighbor = np.min([n_neighbors, len(sorted_indices)])\n",
    "            closest_neighbors = self.y_train[\n",
    "                sorted_indices[:farthest_neighbor]\n",
    "            ]\n",
    "\n",
    "            # Use the `weight_map` to wheigh the neighbors and change their\n",
    "            # significance based off of their index and value in the\n",
    "            # `weight_map`.\n",
    "            if weight_map is not None:\n",
    "                closest_neighbors = closest_neighbors.tolist()\n",
    "                closest_neighbors = self._weigh_neighbors(\n",
    "                    closest_neighbors, weight_map\n",
    "                )\n",
    "\n",
    "            y_predicted[i] = mode(closest_neighbors)[0]\n",
    "        return y_predicted\n",
    "\n",
    "    @staticmethod\n",
    "    def _weigh_neighbors(\n",
    "        closest_neighbors: list, weight_map: Dict[int, float]\n",
    "    ) -> list:\n",
    "        # Add more weight for a certain neighbor according to the `weight_map`.\n",
    "        weighted_list = list()\n",
    "        for i, value in enumerate(closest_neighbors):\n",
    "            ...\n",
    "\n",
    "        return weighted_list"
   ]
  },
  {
   "cell_type": "markdown",
   "metadata": {},
   "source": [
    "Так же выполните следующие ячейки для проверки. Поэкпериментируйте с таблицей весов.\n",
    "Проанализируйте точность модели с различными `weight_map`'ами."
   ]
  },
  {
   "cell_type": "code",
   "execution_count": null,
   "metadata": {},
   "outputs": [],
   "source": [
    "classifier = WeighingKNNClassifier()\n",
    "\n",
    "classifier.fit(x_train, y_train)\n",
    "\n",
    "y_predicted = classifier.predict(\n",
    "    x_test, n_neighbors=5, weight_map={0: 1, 1: 2, 2: 3, 3: 4, 4: 5}\n",
    ")\n",
    "confusion_matrix = compute_confusion_matrix(\n",
    "    y_test.reshape((-1, 1)), y_predicted.reshape((-1, 1))\n",
    ")"
   ]
  },
  {
   "cell_type": "code",
   "execution_count": null,
   "metadata": {},
   "outputs": [],
   "source": [
    "plot_confusion_matrix(confusion_matrix, \"Looping KNN on MNIST\")"
   ]
  },
  {
   "cell_type": "markdown",
   "metadata": {},
   "source": [
    "***"
   ]
  },
  {
   "cell_type": "markdown",
   "metadata": {},
   "source": [
    "## Выводы\n",
    "\n",
    "Метод k-ближайших соседей — довольно простой, но при этом мощный алгоритм машинного обучения,\n",
    "который, как мы убедились, в состоянии решать не совсем тривиальные задачи классификации.\n",
    "\n",
    "В настоящей тетради мы подробно изучили прицип работы KNN, оптимизировали самую наивную реализацию\n",
    "алгоритма и дополнили функционал классификатора интересной функцией — взвешиванием соседей."
   ]
  }
 ],
 "metadata": {
  "kernelspec": {
   "display_name": ".venv",
   "language": "python",
   "name": "python3"
  },
  "language_info": {
   "codemirror_mode": {
    "name": "ipython",
    "version": 3
   },
   "file_extension": ".py",
   "mimetype": "text/x-python",
   "name": "python",
   "nbconvert_exporter": "python",
   "pygments_lexer": "ipython3",
   "version": "3.12.8"
  }
 },
 "nbformat": 4,
 "nbformat_minor": 2
}
