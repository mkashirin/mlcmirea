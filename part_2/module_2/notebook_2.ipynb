{
 "cells": [
  {
   "cell_type": "markdown",
   "metadata": {},
   "source": [
    "# Тетрадь №4: Метрики моделей регрессии\n",
    "\n",
    "В предыдущей тетради мы обсудили метрики классификации. А темой данной тетради являются методы\n",
    "оценки регрессионных моделей по различным критериям. Мы изучим: чем они отличаются от методов,\n",
    "применяемых к моделям классификации; как и когда которые из них применять.\n",
    "\n",
    "## Содержание\n",
    "\n",
    "* [Теория](#Теория)\n",
    "* [Примеры](#Примеры)\n",
    "* [Задача](#Задача)"
   ]
  },
  {
   "cell_type": "markdown",
   "metadata": {},
   "source": [
    "***"
   ]
  },
  {
   "cell_type": "markdown",
   "metadata": {},
   "source": [
    "## Теория\n",
    "\n",
    "Метрики регрессии используются для оценки производительности моделей регрессии, которые\n",
    "предсказывают непрерывные числовые значения. Эти метрики помогают количественно оценить, насколько\n",
    "хорошо предсказания модели соответствуют фактическим наблюдаемым значениям. Ниже приведены\n",
    "некоторые часто используемые метрики регрессии, а также их описания и формулы.\n",
    "\n",
    "### Средняя абсолютная ошибка (MAE — Mean Absolute Error)\n",
    "\n",
    "MAE измеряет среднюю абсолютную разницу между предсказанными значениями и фактическими значениями.\n",
    "Она менее чувствительна к выбросам по сравнению с MSE.\n",
    "\n",
    "**Формула**:\n",
    "$$ \\textrm{MAE} = \\frac{1}{n} \\sum_{i = 1}^n |y_i - \\hat{y}_i|, $$\n",
    "\n",
    "где:\n",
    "- $n$ — Количество точек данных;\n",
    "- $y_i$ — Фактическое значение для \\( i \\)-го элемента данных;\n",
    "- $\\hat{y}_i$ — Предсказанное значение для \\( i \\)-го элемента данных.\n",
    "\n",
    "### Среднеквадратичная ошибка (MSE — Mean Squared Error)\n",
    "\n",
    "MSE измеряет среднее значение квадратов разностей между предсказанными значениями и фактическими\n",
    "значениями. Она сильнее штрафует большие ошибки из-за операции возведения в квадрат.\n",
    "\n",
    "**Формула**:\n",
    "$$ \\textrm{MSE} = \\frac{1}{n} \\sum_{i=1}^{n} (y_i - \\hat{y}_i)^2, $$\n",
    "\n",
    "где:\n",
    "- $n$ — Количество данных;\n",
    "- $y_i$ — Фактическое значение для $i$-го элемента данных;\n",
    "- $\\hat{y}_i$ — Предсказанное значение для $i$-го элемента данных.\n",
    "\n",
    "### Среднеквадратичная ошибка (RMSE — Root Mean Squared Error)\n",
    "\n",
    "RMSE — это квадратный корень из MSE. Он имеет ту же единицу измерения, что и целевая переменная,\n",
    "что упрощает интерпретацию.\n",
    "\n",
    "**Формула**:\n",
    "$$ \\textrm{RMSE} = \\sqrt{\\frac{1}{n} \\sum_{i = 1}^{n} (y_i - \\hat{y}_i)^2} $$\n",
    "\n",
    "где:\n",
    "- $n$ — Количество данных;\n",
    "- $y_i$ — Фактическое значение для $i$-го элемента данных;\n",
    "- $\\hat{y}_i$ — Предсказанное значение для $i$-го элемента данных.\n",
    "\n",
    "### Средняя абсолютная процентная ошибка (MAPE — Mean Absolute Percentage Error)\n",
    "\n",
    "MAPE измеряет среднюю процентную разницу между предсказанными значениями и фактическими значениями.\n",
    "Она полезна для понимания относительной ошибки.\n",
    "\n",
    "**Формула**:\n",
    "$$\n",
    "\\textrm{MAPE} =\n",
    "    \\frac{1}{n} \\sum_{i = 1}^{n} \\left| \\frac{y_i - \\hat{y}_i}{y_i} \\right| \\times 100,\n",
    "$$\n",
    "\n",
    "где:\n",
    "- $n$ — Количество данных;\n",
    "- $y_i$ — Фактическое значение для $i$-го элемента данных\n",
    "- $\\hat{y}_i$ — Предсказанное значение для $i$-го элемента данных\n",
    "\n",
    "### R-квадрат (R-squared)\n",
    "\n",
    "R-квадрат, также известный как коэффициент детерминации, измеряет долю дисперсии зависимой переменной,\n",
    "которая предсказуема из независимых переменных. Он варьируется от 0 до 1, причем более высокие\n",
    "значения указывают на лучшее соответствие.\n",
    "\n",
    "**Формула**:\n",
    "$$\n",
    "\\textrm{R}^2 = 1 - \\frac{\\sum_{i = 1}^{n} (y_i - \\hat{y}_i)^2}{\\sum_{i = 1}^{n} (y_i - \\bar{y})^2}\n",
    "$$\n",
    "\n",
    "где:\n",
    "- $n$ — Количество данных;\n",
    "- $y_i$ — Фактическое значение для $i$-го элемента данных;\n",
    "- $\\hat{y}_i$ — Предсказанное значение для $i$-го элемента данных;\n",
    "- $\\bar{y}$ — Среднее значение фактических значений.\n",
    "\n",
    "### Скорректированный R-квадрат (Adjusted R-squared)\n",
    "\n",
    "Скорректированный R^2 — это модифицированная версия R^2, которая учитывает количество предикторов в\n",
    "модели. Он штрафует добавление нерелевантных предикторов.\n",
    "\n",
    "**Формула**:\n",
    "$$\n",
    "\\textrm{R}^2_{\\textrm{Adj}} = 1 - \\left( \\frac{(1 - \\textrm{R}^2)(n - 1)}{n - k - 1} \\right),\n",
    "$$\n",
    "\n",
    "где:\n",
    "- $n$ — Количество данных;\n",
    "- $k$ — Количество предикторов;\n",
    "- $\\textrm{R}^2$ — Значение R-квадрат.\n",
    "\n",
    "### Средняя ошибка смещения (MBE — Mean Bias Error)\n",
    "\n",
    "MBE измеряет среднюю разницу между предсказанными значениями и фактическими значениями. Он\n",
    "указывает, систематически ли модель переоценивает или недооценивает.\n",
    "\n",
    "**Формула**:\n",
    "$$ \\textrm{MBE} = \\frac{1}{n} \\sum_{i = 1}^{n} (y_i - \\hat{y}_i), $$\n",
    "\n",
    "где:\n",
    "- $n$ — Количество данных;\n",
    "- $y_i$ — Фактическое значение для $i$-го элемента данных;\n",
    "- $\\hat{y}_i$ — Предсказанное значение для $i$-го элемента данных.\n",
    "\n",
    "Каждая из этих метрик предоставляет разные сведения о производительности модели регрессии:\n",
    "- **MAE** и **MSE** измеряют среднюю ошибку, причем MSE сильнее штрафует большие ошибки.\n",
    "- **RMSE** — это квадратный корень из MSE и имеет ту же единицу измерения, что и целевая\n",
    "переменная.\n",
    "- **MAPE** предоставляет процентную ошибку, полезную для понимания относительной\n",
    "производительности.\n",
    "- **R-squared** и **Adjusted R-squared** измеряют долю объясненной дисперсии моделью, причем\n",
    "Скорректированный $\\textrm{R}^2$ штрафует добавление нерелевантных предикторов.\n",
    "- **MBE** указывает, систематически ли модель переоценивает или недооценивает.\n",
    "\n",
    "Выбор подходящей метрики зависит от конкретных требований задачи и природы данных."
   ]
  },
  {
   "cell_type": "markdown",
   "metadata": {},
   "source": [
    "***"
   ]
  },
  {
   "cell_type": "markdown",
   "metadata": {},
   "source": [
    "## Примеры\n",
    "\n",
    "### Средняя абсолютная ошибка\n",
    "\n",
    "Определим функцию для вычисления средней абсолютной ошибки."
   ]
  },
  {
   "cell_type": "code",
   "execution_count": 32,
   "metadata": {},
   "outputs": [],
   "source": [
    "import numpy as np\n",
    "from numpy import ndarray\n",
    "\n",
    "\n",
    "def compute_mean_absolute_error(actual: ndarray, predicted: ndarray) -> float:\n",
    "    error = float(np.mean(np.abs(actual - predicted)))\n",
    "    return error"
   ]
  },
  {
   "cell_type": "markdown",
   "metadata": {},
   "source": [
    "И посмотрим на принцип её действия относительно конкретных числовых (пускай, и случайных) данных."
   ]
  },
  {
   "cell_type": "code",
   "execution_count": 33,
   "metadata": {},
   "outputs": [
    {
     "name": "stdout",
     "output_type": "stream",
     "text": [
      "0.1843764863200156\n"
     ]
    }
   ],
   "source": [
    "import random\n",
    "\n",
    "\n",
    "y_actual = np.array([random.random() for _ in range(100)])\n",
    "y_pred = np.array([\n",
    "    x if random.random() < 0.5 else random.random() for x in y_actual\n",
    "])\n",
    "mean_absolute_error = compute_mean_absolute_error(y_actual, y_pred)\n",
    "\n",
    "print(mean_absolute_error)"
   ]
  },
  {
   "cell_type": "markdown",
   "metadata": {},
   "source": [
    "### Средняя квадратичная ошибка и корень СКО\n",
    "\n",
    "Выполним те же манипуляции с СКО и корнем СКО."
   ]
  },
  {
   "cell_type": "code",
   "execution_count": 34,
   "metadata": {},
   "outputs": [
    {
     "name": "stdout",
     "output_type": "stream",
     "text": [
      "0.09028100715033459\n",
      "0.30046798024138044\n"
     ]
    }
   ],
   "source": [
    "def compute_mean_squared_error(actual: ndarray, predicted: ndarray) -> float:\n",
    "    error = float(np.mean(np.power(actual - predicted, 2)))\n",
    "    return error\n",
    "\n",
    "\n",
    "def compute_root_mean_squared_error(\n",
    "    actual: ndarray, predicted: ndarray\n",
    ") -> float:\n",
    "    error = np.sqrt(compute_mean_squared_error(actual, predicted))\n",
    "    return error\n",
    "\n",
    "\n",
    "mean_squared_error = compute_mean_squared_error(y_actual, y_pred)\n",
    "root_mean_squared_error = compute_root_mean_squared_error(y_actual, y_pred)\n",
    "\n",
    "print(mean_squared_error, root_mean_squared_error, sep=\"\\n\")"
   ]
  },
  {
   "cell_type": "markdown",
   "metadata": {},
   "source": [
    "***"
   ]
  },
  {
   "cell_type": "markdown",
   "metadata": {},
   "source": [
    "## Задание\n",
    "\n",
    "Рассмотрев примеры выше, выполним задание для закрепления материала. Выполните реализацию функций\n",
    "R-squared и Adjusted R-squared. Пользуйтесь формулами из [теории](#Теория)."
   ]
  },
  {
   "cell_type": "code",
   "execution_count": null,
   "metadata": {},
   "outputs": [],
   "source": [
    "def compute_r_squared_error(actual: ndarray, predicted: ndarray) -> float: ...\n",
    "\n",
    "def compute_adjusted_r_squared_error(\n",
    "    actual: ndarray, predicted: ndarray, n_predictors: int\n",
    ") -> float: ..."
   ]
  },
  {
   "cell_type": "markdown",
   "metadata": {},
   "source": [
    "По готовности кода в ячейке выше, запустите следующий блок кода, чтобы проверить, выполняется ли\n",
    "ваш код. R-квадрат иногда может возвращать отрицательные значения, и это нормально."
   ]
  },
  {
   "cell_type": "code",
   "execution_count": 36,
   "metadata": {},
   "outputs": [
    {
     "name": "stdout",
     "output_type": "stream",
     "text": [
      "-0.27365239787719875\n",
      "2.286648850916762\n"
     ]
    }
   ],
   "source": [
    "y_actual = np.array([random.random() for _ in range(100)])\n",
    "y_pred = np.array([\n",
    "    x if random.random() < 0.5 else random.random() for x in y_actual\n",
    "])\n",
    "n_preds = 3\n",
    "r_squared_error = compute_r_squared_error(y_actual, y_pred)\n",
    "adjusted_r_squared_error = compute_adjusted_r_squared_error(\n",
    "    y_actual, y_pred, n_preds\n",
    ")\n",
    "\n",
    "print(r_squared_error, adjusted_r_squared_error, sep=\"\\n\")"
   ]
  },
  {
   "cell_type": "markdown",
   "metadata": {},
   "source": [
    "***"
   ]
  },
  {
   "cell_type": "markdown",
   "metadata": {},
   "source": [
    "## Выводы\n",
    "\n",
    "Эта тетрадь суть логическое продолжение предыдущей. Она дополняет содержание тетради о метриках\n",
    "классификации и проясняет нюансы работы с континуальными значениями. Мы изучили метрики моделей\n",
    "регрессии: их виды и строгие определния; реализовали две функции оценки."
   ]
  }
 ],
 "metadata": {
  "kernelspec": {
   "display_name": "scratches",
   "language": "python",
   "name": "python3"
  },
  "language_info": {
   "codemirror_mode": {
    "name": "ipython",
    "version": 3
   },
   "file_extension": ".py",
   "mimetype": "text/x-python",
   "name": "python",
   "nbconvert_exporter": "python",
   "pygments_lexer": "ipython3",
   "version": "3.12.1"
  }
 },
 "nbformat": 4,
 "nbformat_minor": 2
}
